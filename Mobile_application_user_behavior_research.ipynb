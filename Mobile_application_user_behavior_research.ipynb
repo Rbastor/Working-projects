{
 "cells": [
  {
   "cell_type": "markdown",
   "id": "74528090",
   "metadata": {},
   "source": [
    "# Исследование поведения пользователей мобильного приложения"
   ]
  },
  {
   "cell_type": "markdown",
   "id": "651bb692",
   "metadata": {},
   "source": [
    "## Описание проекта"
   ]
  },
  {
   "cell_type": "markdown",
   "id": "2a20112f",
   "metadata": {},
   "source": [
    "Вы работаете в стартапе, который продаёт продукты питания. Задача - разобраться, как ведут себя пользователи вашего мобильного приложения. Для этого необходимо:\n",
    "\n",
    "- Изучить воронку продаж;\n",
    "- Исследовать результаты A/A/B-эксперимента. Эксперимент заключался в испытании нового шрифта приложения. Пользователей разбили на 3 группы: 2 контрольные со старыми шрифтами и одну экспериментальную — с новыми. Необходимо определить, какой шрифт лучше."
   ]
  },
  {
   "cell_type": "markdown",
   "id": "a36def4d",
   "metadata": {},
   "source": [
    "## Описание данных"
   ]
  },
  {
   "cell_type": "markdown",
   "id": "8b734e86",
   "metadata": {},
   "source": [
    "Каждая запись в логе — это действие пользователя, или событие. Файл `logs_exp.csv`:\n",
    "\n",
    "- `EventName` — название события;\n",
    "- `DeviceIDHash` — уникальный идентификатор пользователя;\n",
    "- `EventTimestamp` — время события;\n",
    "- `ExpId` — номер эксперимента: 246 и 247 — контрольные группы, а 248 — экспериментальная."
   ]
  },
  {
   "cell_type": "markdown",
   "id": "edc02c3d",
   "metadata": {},
   "source": [
    "## Подготовка данных к анализу"
   ]
  },
  {
   "cell_type": "markdown",
   "id": "9420df50",
   "metadata": {},
   "source": [
    "Для работы с данными импортируем необходимые библиотеки:"
   ]
  },
  {
   "cell_type": "code",
   "execution_count": 21,
   "id": "da56fa03",
   "metadata": {},
   "outputs": [],
   "source": [
    "import pandas as pd\n",
    "import numpy as np\n",
    "import seaborn as sns\n",
    "import matplotlib.pyplot as plt\n",
    "import math as mth\n",
    "from datetime import datetime, timedelta\n",
    "from scipy import stats as st\n",
    "import warnings\n",
    "warnings.filterwarnings(\"ignore\")"
   ]
  },
  {
   "cell_type": "markdown",
   "id": "6a91d8c7",
   "metadata": {},
   "source": [
    "Перед началом исследования необходимо убедиться в корректности предоставленной информации. Изучим данные в таблице:"
   ]
  },
  {
   "cell_type": "code",
   "execution_count": 22,
   "id": "c3e30d63",
   "metadata": {},
   "outputs": [
    {
     "data": {
      "text/html": [
       "<div>\n",
       "<style scoped>\n",
       "    .dataframe tbody tr th:only-of-type {\n",
       "        vertical-align: middle;\n",
       "    }\n",
       "\n",
       "    .dataframe tbody tr th {\n",
       "        vertical-align: top;\n",
       "    }\n",
       "\n",
       "    .dataframe thead th {\n",
       "        text-align: right;\n",
       "    }\n",
       "</style>\n",
       "<table border=\"1\" class=\"dataframe\">\n",
       "  <thead>\n",
       "    <tr style=\"text-align: right;\">\n",
       "      <th></th>\n",
       "      <th>EventName</th>\n",
       "      <th>DeviceIDHash</th>\n",
       "      <th>EventTimestamp</th>\n",
       "      <th>ExpId</th>\n",
       "    </tr>\n",
       "  </thead>\n",
       "  <tbody>\n",
       "    <tr>\n",
       "      <th>0</th>\n",
       "      <td>MainScreenAppear</td>\n",
       "      <td>4575588528974610257</td>\n",
       "      <td>1564029816</td>\n",
       "      <td>246</td>\n",
       "    </tr>\n",
       "    <tr>\n",
       "      <th>1</th>\n",
       "      <td>MainScreenAppear</td>\n",
       "      <td>7416695313311560658</td>\n",
       "      <td>1564053102</td>\n",
       "      <td>246</td>\n",
       "    </tr>\n",
       "    <tr>\n",
       "      <th>2</th>\n",
       "      <td>PaymentScreenSuccessful</td>\n",
       "      <td>3518123091307005509</td>\n",
       "      <td>1564054127</td>\n",
       "      <td>248</td>\n",
       "    </tr>\n",
       "    <tr>\n",
       "      <th>3</th>\n",
       "      <td>CartScreenAppear</td>\n",
       "      <td>3518123091307005509</td>\n",
       "      <td>1564054127</td>\n",
       "      <td>248</td>\n",
       "    </tr>\n",
       "    <tr>\n",
       "      <th>4</th>\n",
       "      <td>PaymentScreenSuccessful</td>\n",
       "      <td>6217807653094995999</td>\n",
       "      <td>1564055322</td>\n",
       "      <td>248</td>\n",
       "    </tr>\n",
       "  </tbody>\n",
       "</table>\n",
       "</div>"
      ],
      "text/plain": [
       "                 EventName         DeviceIDHash  EventTimestamp  ExpId\n",
       "0         MainScreenAppear  4575588528974610257      1564029816    246\n",
       "1         MainScreenAppear  7416695313311560658      1564053102    246\n",
       "2  PaymentScreenSuccessful  3518123091307005509      1564054127    248\n",
       "3         CartScreenAppear  3518123091307005509      1564054127    248\n",
       "4  PaymentScreenSuccessful  6217807653094995999      1564055322    248"
      ]
     },
     "metadata": {},
     "output_type": "display_data"
    },
    {
     "name": "stdout",
     "output_type": "stream",
     "text": [
      "<class 'pandas.core.frame.DataFrame'>\n",
      "RangeIndex: 244126 entries, 0 to 244125\n",
      "Data columns (total 4 columns):\n",
      " #   Column          Non-Null Count   Dtype \n",
      "---  ------          --------------   ----- \n",
      " 0   EventName       244126 non-null  object\n",
      " 1   DeviceIDHash    244126 non-null  int64 \n",
      " 2   EventTimestamp  244126 non-null  int64 \n",
      " 3   ExpId           244126 non-null  int64 \n",
      "dtypes: int64(3), object(1)\n",
      "memory usage: 7.5+ MB\n"
     ]
    }
   ],
   "source": [
    "try:\n",
    "    data = pd.read_csv('logs_exp.csv', sep='\\t', decimal=',')\n",
    "except:\n",
    "    data = pd.read_csv('/datasets/logs_exp.csv', sep='\\t', decimal=',')\n",
    "display(data.head())\n",
    "data.info()"
   ]
  },
  {
   "cell_type": "markdown",
   "id": "aebebe17",
   "metadata": {},
   "source": [
    "Данные изучены, обнаружены следующие замечания:\n",
    "\n",
    "- Названия столбцов таблицы имеют разный регистр;\n",
    "- Даты в таблице отображены в формате `unix time`."
   ]
  },
  {
   "cell_type": "code",
   "execution_count": 23,
   "id": "eb247a88",
   "metadata": {},
   "outputs": [
    {
     "name": "stdout",
     "output_type": "stream",
     "text": [
      "Количество дубликатов: 413\n"
     ]
    },
    {
     "data": {
      "text/html": [
       "<div>\n",
       "<style scoped>\n",
       "    .dataframe tbody tr th:only-of-type {\n",
       "        vertical-align: middle;\n",
       "    }\n",
       "\n",
       "    .dataframe tbody tr th {\n",
       "        vertical-align: top;\n",
       "    }\n",
       "\n",
       "    .dataframe thead th {\n",
       "        text-align: right;\n",
       "    }\n",
       "</style>\n",
       "<table border=\"1\" class=\"dataframe\">\n",
       "  <thead>\n",
       "    <tr style=\"text-align: right;\">\n",
       "      <th></th>\n",
       "      <th>event_name</th>\n",
       "      <th>device_id_hash</th>\n",
       "      <th>event_timestamp</th>\n",
       "      <th>exp_id</th>\n",
       "      <th>time</th>\n",
       "      <th>date</th>\n",
       "    </tr>\n",
       "  </thead>\n",
       "  <tbody>\n",
       "    <tr>\n",
       "      <th>0</th>\n",
       "      <td>MainScreenAppear</td>\n",
       "      <td>4575588528974610257</td>\n",
       "      <td>1564029816</td>\n",
       "      <td>246</td>\n",
       "      <td>2019-07-25 04:43:36</td>\n",
       "      <td>2019-07-25</td>\n",
       "    </tr>\n",
       "    <tr>\n",
       "      <th>1</th>\n",
       "      <td>MainScreenAppear</td>\n",
       "      <td>7416695313311560658</td>\n",
       "      <td>1564053102</td>\n",
       "      <td>246</td>\n",
       "      <td>2019-07-25 11:11:42</td>\n",
       "      <td>2019-07-25</td>\n",
       "    </tr>\n",
       "    <tr>\n",
       "      <th>2</th>\n",
       "      <td>PaymentScreenSuccessful</td>\n",
       "      <td>3518123091307005509</td>\n",
       "      <td>1564054127</td>\n",
       "      <td>248</td>\n",
       "      <td>2019-07-25 11:28:47</td>\n",
       "      <td>2019-07-25</td>\n",
       "    </tr>\n",
       "    <tr>\n",
       "      <th>3</th>\n",
       "      <td>CartScreenAppear</td>\n",
       "      <td>3518123091307005509</td>\n",
       "      <td>1564054127</td>\n",
       "      <td>248</td>\n",
       "      <td>2019-07-25 11:28:47</td>\n",
       "      <td>2019-07-25</td>\n",
       "    </tr>\n",
       "    <tr>\n",
       "      <th>4</th>\n",
       "      <td>PaymentScreenSuccessful</td>\n",
       "      <td>6217807653094995999</td>\n",
       "      <td>1564055322</td>\n",
       "      <td>248</td>\n",
       "      <td>2019-07-25 11:48:42</td>\n",
       "      <td>2019-07-25</td>\n",
       "    </tr>\n",
       "  </tbody>\n",
       "</table>\n",
       "</div>"
      ],
      "text/plain": [
       "                event_name       device_id_hash  event_timestamp  exp_id  \\\n",
       "0         MainScreenAppear  4575588528974610257       1564029816     246   \n",
       "1         MainScreenAppear  7416695313311560658       1564053102     246   \n",
       "2  PaymentScreenSuccessful  3518123091307005509       1564054127     248   \n",
       "3         CartScreenAppear  3518123091307005509       1564054127     248   \n",
       "4  PaymentScreenSuccessful  6217807653094995999       1564055322     248   \n",
       "\n",
       "                 time       date  \n",
       "0 2019-07-25 04:43:36 2019-07-25  \n",
       "1 2019-07-25 11:11:42 2019-07-25  \n",
       "2 2019-07-25 11:28:47 2019-07-25  \n",
       "3 2019-07-25 11:28:47 2019-07-25  \n",
       "4 2019-07-25 11:48:42 2019-07-25  "
      ]
     },
     "execution_count": 23,
     "metadata": {},
     "output_type": "execute_result"
    }
   ],
   "source": [
    "# переименование столбцов\n",
    "data = data.rename(columns={'EventName': 'event_name', 'DeviceIDHash': 'device_id_hash',\n",
    "                           'EventTimestamp': 'event_timestamp', 'ExpId':'exp_id'})\n",
    "# проверка на дубликаты\n",
    "print('Количество дубликатов:', data.duplicated().sum())\n",
    "\n",
    "# добавление столбеца даты и времени, а также отдельного столбца дат\n",
    "data['time'] = pd.to_datetime(data['event_timestamp'], unit='s') \n",
    "data['date'] = data['time'].dt.round('D')\n",
    "data.head()"
   ]
  },
  {
   "cell_type": "code",
   "execution_count": 24,
   "id": "218bc721",
   "metadata": {
    "scrolled": true
   },
   "outputs": [
    {
     "name": "stdout",
     "output_type": "stream",
     "text": [
      "<class 'pandas.core.frame.DataFrame'>\n",
      "RangeIndex: 243713 entries, 0 to 243712\n",
      "Data columns (total 6 columns):\n",
      " #   Column           Non-Null Count   Dtype         \n",
      "---  ------           --------------   -----         \n",
      " 0   event_name       243713 non-null  object        \n",
      " 1   device_id_hash   243713 non-null  int64         \n",
      " 2   event_timestamp  243713 non-null  int64         \n",
      " 3   exp_id           243713 non-null  int64         \n",
      " 4   time             243713 non-null  datetime64[ns]\n",
      " 5   date             243713 non-null  datetime64[ns]\n",
      "dtypes: datetime64[ns](2), int64(3), object(1)\n",
      "memory usage: 11.2+ MB\n"
     ]
    }
   ],
   "source": [
    "# удаление дубликатов\n",
    "data = data.drop_duplicates().reset_index(drop=True)\n",
    "data.info()"
   ]
  },
  {
   "cell_type": "markdown",
   "id": "c6c9c002",
   "metadata": {},
   "source": [
    "Проверим, есть ли в таблице пользователи, которые одновременно вошли в разные группы:"
   ]
  },
  {
   "cell_type": "code",
   "execution_count": 25,
   "id": "6df6a15d",
   "metadata": {},
   "outputs": [
    {
     "name": "stdout",
     "output_type": "stream",
     "text": [
      "Количество пользователей, которые одновременно вошли в разные группы: 0\n"
     ]
    }
   ],
   "source": [
    "# Пользователи, которые одновременно вошли в разные группы \n",
    "group_duplicate = data.groupby('device_id_hash', as_index=False).agg({'exp_id':'nunique'}).query('exp_id>1')['device_id_hash']\n",
    "print('Количество пользователей, которые одновременно вошли в разные группы:', group_duplicate.count())"
   ]
  },
  {
   "cell_type": "markdown",
   "id": "e4fdb149",
   "metadata": {},
   "source": [
    "**Выводы:**\n",
    "- Названия столбцов приведены к единому виду;\n",
    "- Время события преобразовано к формату `datetime`;\n",
    "- Удалены дубликаты;\n",
    "- Данные проверены на пересекающихся пользователей, такие пользователи отсутствуют."
   ]
  },
  {
   "cell_type": "markdown",
   "id": "6ac71e0a",
   "metadata": {},
   "source": [
    "## Анализ данных"
   ]
  },
  {
   "cell_type": "markdown",
   "id": "252cfc79",
   "metadata": {},
   "source": [
    "### Изучение и проверка данных"
   ]
  },
  {
   "cell_type": "markdown",
   "id": "45fd0cad",
   "metadata": {},
   "source": [
    "Ответим на следующие вопросы:\n",
    "\n",
    "- Сколько всего событий в логе?\n",
    "- Сколько всего пользователей в логе?\n",
    "- Сколько в среднем событий приходится на пользователя?"
   ]
  },
  {
   "cell_type": "code",
   "execution_count": 26,
   "id": "820de3f4",
   "metadata": {},
   "outputs": [
    {
     "name": "stdout",
     "output_type": "stream",
     "text": [
      "Количество событий в логе: 243713\n",
      "Количество пользователей в логе: 7551\n",
      "Среднее количество событий на пользователя: 32\n"
     ]
    }
   ],
   "source": [
    "print('Количество событий в логе:', data['event_name'].count())\n",
    "print('Количество пользователей в логе:', len(data['device_id_hash'].unique()))\n",
    "event = data.groupby('device_id_hash', as_index=False).agg({'event_name':'count'})\n",
    "print('Среднее количество событий на пользователя:', round(event['event_name'].mean()))"
   ]
  },
  {
   "cell_type": "markdown",
   "id": "d47b4be8",
   "metadata": {},
   "source": [
    "Найдем максимальную и минимальную дату. После построим гистограмму по дате и времени. "
   ]
  },
  {
   "cell_type": "code",
   "execution_count": 27,
   "id": "683420f6",
   "metadata": {},
   "outputs": [
    {
     "name": "stdout",
     "output_type": "stream",
     "text": [
      "Минимальная дата: 2019-07-25 00:00:00\n",
      "Максимальная дата: 2019-08-08 00:00:00\n"
     ]
    }
   ],
   "source": [
    "print('Минимальная дата:', data['date'].min())\n",
    "print('Максимальная дата:', data['date'].max())"
   ]
  },
  {
   "cell_type": "code",
   "execution_count": 28,
   "id": "dd2e3fcd",
   "metadata": {},
   "outputs": [
    {
     "data": {
      "image/png": "[encoded data removed]",
      "text/plain": [
       "<Figure size 432x288 with 1 Axes>"
      ]
     },
     "metadata": {
      "needs_background": "light"
     },
     "output_type": "display_data"
    }
   ],
   "source": [
    "plot_date = data.pivot_table(index='date', values='event_name', aggfunc='count').plot(kind='bar') \n",
    "plt.title('Гистограмма количества событий')\n",
    "plt.xlabel('Дата')\n",
    "plt.ylabel('Количество событий')\n",
    "plt.show()"
   ]
  },
  {
   "cell_type": "markdown",
   "id": "dc3aef97",
   "metadata": {},
   "source": [
    "На гистограмме наблюдается яркий всплеск активности с 1 августа 2019 года. Событий до этой даты значительно меньше. Выясним, насколько много пользователей мы потеряем, если не будем учитывать события до указанной даты? Для этого вычислим количество пользователей, проявивших активность с 1 августа 2019 года и сравним их с общим количеством."
   ]
  },
  {
   "cell_type": "code",
   "execution_count": 29,
   "id": "8766df38",
   "metadata": {},
   "outputs": [
    {
     "name": "stdout",
     "output_type": "stream",
     "text": [
      "Количество пользователей в логе: 7551\n",
      "Количество уникальных пользователей с 1 августа: 7542\n",
      "Количество событий с 1 августа: 242554\n",
      "Доля потерянных событий: 0.48 %\n"
     ]
    }
   ],
   "source": [
    "print('Количество пользователей в логе:', len(data['device_id_hash'].unique()))\n",
    "print('Количество уникальных пользователей с 1 августа:', len(data.query('date>=\"2019-08-01\"')['device_id_hash'].unique()))\n",
    "print('Количество событий с 1 августа:', len(data.query('date>=\"2019-08-01\"')))\n",
    "print('Доля потерянных событий:', round((1-len(data.query('date>=\"2019-08-01\"'))/data['event_name'].count())*100,2),'%')"
   ]
  },
  {
   "cell_type": "markdown",
   "id": "08040c0e",
   "metadata": {},
   "source": [
    "Разница в 9 пользователей. Это 0.02% от общего количества. Практически все пользователи данного лога проявляли свою активность с 1 августа. Доля потерянных событий равна 0.48%. Потеря такого количества пользователей и событий допустима.\n",
    "\n",
    "Возьмем за минимальную дату 1 августа 2019 года и отбросим старые данные. Проверим, остались ли пользователи из всех трёх экспериментальных групп."
   ]
  },
  {
   "cell_type": "code",
   "execution_count": 30,
   "id": "f671d69f",
   "metadata": {},
   "outputs": [
    {
     "data": {
      "text/html": [
       "<div>\n",
       "<style scoped>\n",
       "    .dataframe tbody tr th:only-of-type {\n",
       "        vertical-align: middle;\n",
       "    }\n",
       "\n",
       "    .dataframe tbody tr th {\n",
       "        vertical-align: top;\n",
       "    }\n",
       "\n",
       "    .dataframe thead th {\n",
       "        text-align: right;\n",
       "    }\n",
       "</style>\n",
       "<table border=\"1\" class=\"dataframe\">\n",
       "  <thead>\n",
       "    <tr style=\"text-align: right;\">\n",
       "      <th></th>\n",
       "      <th>group</th>\n",
       "      <th>users</th>\n",
       "    </tr>\n",
       "  </thead>\n",
       "  <tbody>\n",
       "    <tr>\n",
       "      <th>0</th>\n",
       "      <td>248</td>\n",
       "      <td>85167</td>\n",
       "    </tr>\n",
       "    <tr>\n",
       "      <th>1</th>\n",
       "      <td>246</td>\n",
       "      <td>79813</td>\n",
       "    </tr>\n",
       "    <tr>\n",
       "      <th>2</th>\n",
       "      <td>247</td>\n",
       "      <td>77574</td>\n",
       "    </tr>\n",
       "  </tbody>\n",
       "</table>\n",
       "</div>"
      ],
      "text/plain": [
       "   group  users\n",
       "0    248  85167\n",
       "1    246  79813\n",
       "2    247  77574"
      ]
     },
     "execution_count": 30,
     "metadata": {},
     "output_type": "execute_result"
    }
   ],
   "source": [
    "df = data.query('date>=\"2019-08-01\"')\n",
    "group_users = pd.DataFrame(df['exp_id'].value_counts().reset_index())\n",
    "group_users.columns = ['group', 'users']\n",
    "group_users"
   ]
  },
  {
   "cell_type": "markdown",
   "id": "43a43644",
   "metadata": {},
   "source": [
    "### Изучение воронки событий"
   ]
  },
  {
   "cell_type": "markdown",
   "id": "db639bdd",
   "metadata": {},
   "source": [
    "Посмотрим, какие события есть в логах, как часто они встречаются. Отсортируем события по частоте."
   ]
  },
  {
   "cell_type": "code",
   "execution_count": 31,
   "id": "69a8ad0e",
   "metadata": {},
   "outputs": [
    {
     "data": {
      "text/html": [
       "<div>\n",
       "<style scoped>\n",
       "    .dataframe tbody tr th:only-of-type {\n",
       "        vertical-align: middle;\n",
       "    }\n",
       "\n",
       "    .dataframe tbody tr th {\n",
       "        vertical-align: top;\n",
       "    }\n",
       "\n",
       "    .dataframe thead th {\n",
       "        text-align: right;\n",
       "    }\n",
       "</style>\n",
       "<table border=\"1\" class=\"dataframe\">\n",
       "  <thead>\n",
       "    <tr style=\"text-align: right;\">\n",
       "      <th></th>\n",
       "      <th>event_name</th>\n",
       "    </tr>\n",
       "  </thead>\n",
       "  <tbody>\n",
       "    <tr>\n",
       "      <th>MainScreenAppear</th>\n",
       "      <td>118320</td>\n",
       "    </tr>\n",
       "    <tr>\n",
       "      <th>OffersScreenAppear</th>\n",
       "      <td>46667</td>\n",
       "    </tr>\n",
       "    <tr>\n",
       "      <th>CartScreenAppear</th>\n",
       "      <td>42518</td>\n",
       "    </tr>\n",
       "    <tr>\n",
       "      <th>PaymentScreenSuccessful</th>\n",
       "      <td>34036</td>\n",
       "    </tr>\n",
       "    <tr>\n",
       "      <th>Tutorial</th>\n",
       "      <td>1013</td>\n",
       "    </tr>\n",
       "  </tbody>\n",
       "</table>\n",
       "</div>"
      ],
      "text/plain": [
       "                         event_name\n",
       "MainScreenAppear             118320\n",
       "OffersScreenAppear            46667\n",
       "CartScreenAppear              42518\n",
       "PaymentScreenSuccessful       34036\n",
       "Tutorial                       1013"
      ]
     },
     "execution_count": 31,
     "metadata": {},
     "output_type": "execute_result"
    }
   ],
   "source": [
    "pd.DataFrame(df['event_name'].value_counts())"
   ]
  },
  {
   "cell_type": "markdown",
   "id": "f1c5cbb4",
   "metadata": {},
   "source": [
    "Расшифровка событий:\n",
    "\n",
    "- `Main Screen Appear` - появление главного экрана;          \n",
    "- `Offers Screen Appear` - появление экрана предложений(товаров);          \n",
    "- `Cart Screen Appear` - появление экрана корзины;           \n",
    "- `Payment Screen Successful` - появление экрана успешной оплаты;     \n",
    "- `Tutorial` - руководство. "
   ]
  },
  {
   "cell_type": "markdown",
   "id": "621a938f",
   "metadata": {},
   "source": [
    "Посчитаем, сколько пользователей совершали каждое из этих событий, а также долю пользователей, которые хоть раз совершали событие."
   ]
  },
  {
   "cell_type": "code",
   "execution_count": 32,
   "id": "9c809e02",
   "metadata": {},
   "outputs": [
    {
     "data": {
      "text/html": [
       "<div>\n",
       "<style scoped>\n",
       "    .dataframe tbody tr th:only-of-type {\n",
       "        vertical-align: middle;\n",
       "    }\n",
       "\n",
       "    .dataframe tbody tr th {\n",
       "        vertical-align: top;\n",
       "    }\n",
       "\n",
       "    .dataframe thead th {\n",
       "        text-align: right;\n",
       "    }\n",
       "</style>\n",
       "<table border=\"1\" class=\"dataframe\">\n",
       "  <thead>\n",
       "    <tr style=\"text-align: right;\">\n",
       "      <th></th>\n",
       "      <th>device_id_hash</th>\n",
       "      <th>share_users</th>\n",
       "    </tr>\n",
       "    <tr>\n",
       "      <th>event_name</th>\n",
       "      <th></th>\n",
       "      <th></th>\n",
       "    </tr>\n",
       "  </thead>\n",
       "  <tbody>\n",
       "    <tr>\n",
       "      <th>MainScreenAppear</th>\n",
       "      <td>7429</td>\n",
       "      <td>99.0</td>\n",
       "    </tr>\n",
       "    <tr>\n",
       "      <th>OffersScreenAppear</th>\n",
       "      <td>4603</td>\n",
       "      <td>61.0</td>\n",
       "    </tr>\n",
       "    <tr>\n",
       "      <th>CartScreenAppear</th>\n",
       "      <td>3741</td>\n",
       "      <td>50.0</td>\n",
       "    </tr>\n",
       "    <tr>\n",
       "      <th>PaymentScreenSuccessful</th>\n",
       "      <td>3542</td>\n",
       "      <td>47.0</td>\n",
       "    </tr>\n",
       "    <tr>\n",
       "      <th>Tutorial</th>\n",
       "      <td>845</td>\n",
       "      <td>11.0</td>\n",
       "    </tr>\n",
       "  </tbody>\n",
       "</table>\n",
       "</div>"
      ],
      "text/plain": [
       "                         device_id_hash  share_users\n",
       "event_name                                          \n",
       "MainScreenAppear                   7429         99.0\n",
       "OffersScreenAppear                 4603         61.0\n",
       "CartScreenAppear                   3741         50.0\n",
       "PaymentScreenSuccessful            3542         47.0\n",
       "Tutorial                            845         11.0"
      ]
     },
     "execution_count": 32,
     "metadata": {},
     "output_type": "execute_result"
    }
   ],
   "source": [
    "table = (df.pivot_table(index='event_name', values='device_id_hash', aggfunc='nunique')\n",
    "   .sort_values(by='device_id_hash', ascending=False))\n",
    "table['share_users'] = round(table['device_id_hash']/len(df['device_id_hash'].unique())*100)\n",
    "table"
   ]
  },
  {
   "cell_type": "markdown",
   "id": "c43bb08a",
   "metadata": {},
   "source": [
    "Предположим, что события происходят в следующем порядке: MainScreenAppear >>> OffersScreenAppear >>> CartScreenAppear >>> PaymentScreenSuccessful (Главный экран >>> Экран предложений(товаров) >>> Экран корзины товаров >>> Экран успешной оплаты). Выбранные события связаны между собой последовательно. Уберем событие Tutorial (Руководство) из воронки событий, так как оно не является знаковым событием для достижения конечного результата. Также оно может находиться на любом этапе воронки."
   ]
  },
  {
   "cell_type": "markdown",
   "id": "8e158a6f",
   "metadata": {},
   "source": [
    "По воронке событий посчитаем, какая доля пользователей проходит на следующий шаг воронки."
   ]
  },
  {
   "cell_type": "code",
   "execution_count": 33,
   "id": "fcceeb48",
   "metadata": {},
   "outputs": [
    {
     "data": {
      "text/html": [
       "<div>\n",
       "<style scoped>\n",
       "    .dataframe tbody tr th:only-of-type {\n",
       "        vertical-align: middle;\n",
       "    }\n",
       "\n",
       "    .dataframe tbody tr th {\n",
       "        vertical-align: top;\n",
       "    }\n",
       "\n",
       "    .dataframe thead th {\n",
       "        text-align: right;\n",
       "    }\n",
       "</style>\n",
       "<table border=\"1\" class=\"dataframe\">\n",
       "  <thead>\n",
       "    <tr style=\"text-align: right;\">\n",
       "      <th></th>\n",
       "      <th>device_id_hash</th>\n",
       "      <th>conversion</th>\n",
       "      <th>conversion_step</th>\n",
       "    </tr>\n",
       "    <tr>\n",
       "      <th>event_name</th>\n",
       "      <th></th>\n",
       "      <th></th>\n",
       "      <th></th>\n",
       "    </tr>\n",
       "  </thead>\n",
       "  <tbody>\n",
       "    <tr>\n",
       "      <th>MainScreenAppear</th>\n",
       "      <td>7429</td>\n",
       "      <td>98.5</td>\n",
       "      <td>98.5</td>\n",
       "    </tr>\n",
       "    <tr>\n",
       "      <th>OffersScreenAppear</th>\n",
       "      <td>4603</td>\n",
       "      <td>61.0</td>\n",
       "      <td>62.0</td>\n",
       "    </tr>\n",
       "    <tr>\n",
       "      <th>CartScreenAppear</th>\n",
       "      <td>3741</td>\n",
       "      <td>49.6</td>\n",
       "      <td>81.3</td>\n",
       "    </tr>\n",
       "    <tr>\n",
       "      <th>PaymentScreenSuccessful</th>\n",
       "      <td>3542</td>\n",
       "      <td>47.0</td>\n",
       "      <td>94.7</td>\n",
       "    </tr>\n",
       "  </tbody>\n",
       "</table>\n",
       "</div>"
      ],
      "text/plain": [
       "                         device_id_hash  conversion conversion_step\n",
       "event_name                                                         \n",
       "MainScreenAppear                   7429        98.5            98.5\n",
       "OffersScreenAppear                 4603        61.0            62.0\n",
       "CartScreenAppear                   3741        49.6            81.3\n",
       "PaymentScreenSuccessful            3542        47.0            94.7"
      ]
     },
     "execution_count": 33,
     "metadata": {},
     "output_type": "execute_result"
    }
   ],
   "source": [
    "funnel = (df.query('event_name!=\"Tutorial\"')\n",
    "            .pivot_table(index='event_name', values='device_id_hash', aggfunc='nunique')\n",
    "            .sort_values(by='device_id_hash', ascending=False))\n",
    "\n",
    "users = len(df['device_id_hash'].unique()) # количество уникальных пользователей\n",
    "funnel['conversion'] = round((funnel['device_id_hash']/users)*100,1) # рассчет общей конверсии\n",
    "\n",
    "# рассчет конверсии на шаге\n",
    "funnel['conversion_step'] = ''\n",
    "for i in range(4):\n",
    "    funnel['conversion_step'][i] = round((funnel['device_id_hash'][i]/users)*100,1)\n",
    "    users = funnel['device_id_hash'][i]\n",
    "funnel"
   ]
  },
  {
   "cell_type": "markdown",
   "id": "a12200d4",
   "metadata": {},
   "source": [
    "Всего уникальных пользователей в логе 7551. Возьмем их за 100%. Первый шаг прошли не все пользователи, причины могут быть разные, возможно пользователи довольствовались знакомством с приложением через \"Руководство\", либо попадали сразу на католог товаров (определенный продукт) через рекламу. Большего всего пользователей теряется на втором шаге, около 30% дальше главного экрана не уходят. С дальнейшими шагами ситуация выравнивается, почти половина пользователей доходит до оплаты товаров. "
   ]
  },
  {
   "cell_type": "markdown",
   "id": "0b836039",
   "metadata": {},
   "source": [
    "### Изучение результатов эксперимента"
   ]
  },
  {
   "cell_type": "markdown",
   "id": "11f6de8d",
   "metadata": {},
   "source": [
    "Вычислим количество пользователей в каждой экспериментальной группе:"
   ]
  },
  {
   "cell_type": "code",
   "execution_count": 34,
   "id": "5a81a77b",
   "metadata": {},
   "outputs": [
    {
     "data": {
      "text/html": [
       "<div>\n",
       "<style scoped>\n",
       "    .dataframe tbody tr th:only-of-type {\n",
       "        vertical-align: middle;\n",
       "    }\n",
       "\n",
       "    .dataframe tbody tr th {\n",
       "        vertical-align: top;\n",
       "    }\n",
       "\n",
       "    .dataframe thead th {\n",
       "        text-align: right;\n",
       "    }\n",
       "</style>\n",
       "<table border=\"1\" class=\"dataframe\">\n",
       "  <thead>\n",
       "    <tr style=\"text-align: right;\">\n",
       "      <th></th>\n",
       "      <th>device_id_hash</th>\n",
       "    </tr>\n",
       "    <tr>\n",
       "      <th>exp_id</th>\n",
       "      <th></th>\n",
       "    </tr>\n",
       "  </thead>\n",
       "  <tbody>\n",
       "    <tr>\n",
       "      <th>246</th>\n",
       "      <td>2485</td>\n",
       "    </tr>\n",
       "    <tr>\n",
       "      <th>247</th>\n",
       "      <td>2517</td>\n",
       "    </tr>\n",
       "    <tr>\n",
       "      <th>248</th>\n",
       "      <td>2540</td>\n",
       "    </tr>\n",
       "    <tr>\n",
       "      <th>246_247</th>\n",
       "      <td>5002</td>\n",
       "    </tr>\n",
       "  </tbody>\n",
       "</table>\n",
       "</div>"
      ],
      "text/plain": [
       "         device_id_hash\n",
       "exp_id                 \n",
       "246                2485\n",
       "247                2517\n",
       "248                2540\n",
       "246_247            5002"
      ]
     },
     "execution_count": 34,
     "metadata": {},
     "output_type": "execute_result"
    }
   ],
   "source": [
    "quantity_users = df.pivot_table(index='exp_id', values='device_id_hash', aggfunc='nunique').sort_values(by='exp_id')\n",
    "quantity_users.loc['246_247']=quantity_users.loc[246,'device_id_hash'] + quantity_users.loc[247,'device_id_hash']\n",
    "quantity_users"
   ]
  },
  {
   "cell_type": "markdown",
   "id": "9b93d34b",
   "metadata": {},
   "source": [
    "Есть 2 контрольные группы для А/А-эксперимента, чтобы проверить корректность всех механизмов и расчётов. Проверим, есть ли статистическая разница конверсий между группами 246 и 247. Для начала построим воронку событий по группам."
   ]
  },
  {
   "cell_type": "code",
   "execution_count": 35,
   "id": "3bf1bb37",
   "metadata": {},
   "outputs": [
    {
     "data": {
      "text/html": [
       "<div>\n",
       "<style scoped>\n",
       "    .dataframe tbody tr th:only-of-type {\n",
       "        vertical-align: middle;\n",
       "    }\n",
       "\n",
       "    .dataframe tbody tr th {\n",
       "        vertical-align: top;\n",
       "    }\n",
       "\n",
       "    .dataframe thead th {\n",
       "        text-align: right;\n",
       "    }\n",
       "</style>\n",
       "<table border=\"1\" class=\"dataframe\">\n",
       "  <thead>\n",
       "    <tr style=\"text-align: right;\">\n",
       "      <th>exp_id</th>\n",
       "      <th>246</th>\n",
       "      <th>247</th>\n",
       "      <th>248</th>\n",
       "      <th>share_246,%</th>\n",
       "      <th>share_247,%</th>\n",
       "      <th>share_248,%</th>\n",
       "    </tr>\n",
       "    <tr>\n",
       "      <th>event_name</th>\n",
       "      <th></th>\n",
       "      <th></th>\n",
       "      <th></th>\n",
       "      <th></th>\n",
       "      <th></th>\n",
       "      <th></th>\n",
       "    </tr>\n",
       "  </thead>\n",
       "  <tbody>\n",
       "    <tr>\n",
       "      <th>MainScreenAppear</th>\n",
       "      <td>2452</td>\n",
       "      <td>2479</td>\n",
       "      <td>2498</td>\n",
       "      <td>69.2</td>\n",
       "      <td>70.0</td>\n",
       "      <td>70.5</td>\n",
       "    </tr>\n",
       "    <tr>\n",
       "      <th>OffersScreenAppear</th>\n",
       "      <td>1543</td>\n",
       "      <td>1526</td>\n",
       "      <td>1534</td>\n",
       "      <td>43.6</td>\n",
       "      <td>43.1</td>\n",
       "      <td>43.3</td>\n",
       "    </tr>\n",
       "    <tr>\n",
       "      <th>CartScreenAppear</th>\n",
       "      <td>1267</td>\n",
       "      <td>1239</td>\n",
       "      <td>1235</td>\n",
       "      <td>35.8</td>\n",
       "      <td>35.0</td>\n",
       "      <td>34.9</td>\n",
       "    </tr>\n",
       "    <tr>\n",
       "      <th>PaymentScreenSuccessful</th>\n",
       "      <td>1200</td>\n",
       "      <td>1159</td>\n",
       "      <td>1183</td>\n",
       "      <td>33.9</td>\n",
       "      <td>32.7</td>\n",
       "      <td>33.4</td>\n",
       "    </tr>\n",
       "  </tbody>\n",
       "</table>\n",
       "</div>"
      ],
      "text/plain": [
       "exp_id                    246   247   248  share_246,%  share_247,%  \\\n",
       "event_name                                                            \n",
       "MainScreenAppear         2452  2479  2498         69.2         70.0   \n",
       "OffersScreenAppear       1543  1526  1534         43.6         43.1   \n",
       "CartScreenAppear         1267  1239  1235         35.8         35.0   \n",
       "PaymentScreenSuccessful  1200  1159  1183         33.9         32.7   \n",
       "\n",
       "exp_id                   share_248,%  \n",
       "event_name                            \n",
       "MainScreenAppear                70.5  \n",
       "OffersScreenAppear              43.3  \n",
       "CartScreenAppear                34.9  \n",
       "PaymentScreenSuccessful         33.4  "
      ]
     },
     "execution_count": 35,
     "metadata": {},
     "output_type": "execute_result"
    }
   ],
   "source": [
    "funnel = (df.query('event_name!=\"Tutorial\"')\n",
    "            .pivot_table(index='event_name', columns='exp_id', values='device_id_hash', aggfunc='nunique')\n",
    "            .sort_values(by=246, ascending=False))\n",
    "funnel['share_246,%'] = round((funnel[246]/users)*100,1)\n",
    "funnel['share_247,%'] = round((funnel[247]/users)*100,1)\n",
    "funnel['share_248,%'] = round((funnel[248]/users)*100,1)\n",
    "funnel"
   ]
  },
  {
   "cell_type": "markdown",
   "id": "8073dcef",
   "metadata": {},
   "source": [
    "**Определим нулевую и альтернативную гипотезы:**\n",
    "- Нулевая: Конверсия групп 246 и 247 статистический различий не имеет;\n",
    "- Альтернативная: Конверсия групп 246 и 247 имеет статистические различия;"
   ]
  },
  {
   "cell_type": "markdown",
   "id": "a0574eb3",
   "metadata": {},
   "source": [
    "Для удобства расчетов, напишем функцию проверки гипотезы:"
   ]
  },
  {
   "cell_type": "code",
   "execution_count": 36,
   "id": "5d4e5b5f",
   "metadata": {},
   "outputs": [
    {
     "name": "stdout",
     "output_type": "stream",
     "text": [
      "p-значение:  0.11210845100173072\n",
      "Не получилось отвергнуть нулевую гипотезу, нет оснований считать доли разными\n"
     ]
    }
   ],
   "source": [
    "def hypothesis(group_one, group_two, event): # функция проверки статистических гипотез\n",
    "    \n",
    "    alpha = .05 # критический уровень статистической значимости\n",
    "\n",
    "    successes = np.array([funnel[group_one][event], funnel[group_two][event]])\n",
    "    trials = np.array([quantity_users.loc[group_one,'device_id_hash'], \n",
    "                       quantity_users.loc[group_two,'device_id_hash']])\n",
    "\n",
    "    # пропорция успехов в первой группе:\n",
    "    p1 = successes[0]/trials[0]\n",
    "\n",
    "    # пропорция успехов во второй группе:\n",
    "    p2 = successes[1]/trials[1]\n",
    "\n",
    "    # пропорция успехов в комбинированном датасете:\n",
    "    p_combined = (successes[0] + successes[1]) / (trials[0] + trials[1])\n",
    "\n",
    "    # разница пропорций в датасетах\n",
    "    difference = p1 - p2 \n",
    "\n",
    "    # считаем статистику в ст.отклонениях стандартного нормального распределения\n",
    "    z_value = difference / mth.sqrt(p_combined * (1 - p_combined) * (1/trials[0] + 1/trials[1]))\n",
    "\n",
    "    # задаем стандартное нормальное распределение (среднее 0, ст.отклонение 1)\n",
    "    distr = st.norm(0, 1)  \n",
    "\n",
    "    # считаем статистику в ст.отклонениях стандартного нормального распределения\n",
    "    z_value = difference / mth.sqrt(\n",
    "        p_combined * (1 - p_combined) * (1 / trials[0] + 1 / trials[1])\n",
    "    )\n",
    "\n",
    "    # задаем стандартное нормальное распределение (среднее 0, ст.отклонение 1)\n",
    "    distr = st.norm(0, 1)\n",
    "\n",
    "    p_value = (1 - distr.cdf(abs(z_value))) * 2\n",
    "\n",
    "    print('p-значение: ', p_value)\n",
    "\n",
    "    if p_value < alpha:\n",
    "        print('Отвергаем нулевую гипотезу: между долями есть значимая разница')\n",
    "    else:\n",
    "        print(\n",
    "            'Не получилось отвергнуть нулевую гипотезу, нет оснований считать доли разными'\n",
    "        )\n",
    "        \n",
    "hypothesis(246, 247, 'PaymentScreenSuccessful')"
   ]
  },
  {
   "cell_type": "markdown",
   "id": "8f76b886",
   "metadata": {},
   "source": [
    "Нулевая гипотеза о равенстве долей подтвердилась. Ожидаемый результат, с учетом разницы выборок менее 1%."
   ]
  },
  {
   "cell_type": "markdown",
   "id": "affea9ca",
   "metadata": {},
   "source": [
    "Проделаем то же самое для всех других событий контрольных групп:"
   ]
  },
  {
   "cell_type": "code",
   "execution_count": 37,
   "id": "dd4774c6",
   "metadata": {},
   "outputs": [
    {
     "name": "stdout",
     "output_type": "stream",
     "text": [
      "p-значение:  0.5868776836512959\n",
      "Не получилось отвергнуть нулевую гипотезу, нет оснований считать доли разными\n",
      "p-значение:  0.28743295207707353\n",
      "Не получилось отвергнуть нулевую гипотезу, нет оснований считать доли разными\n",
      "p-значение:  0.21306131796590932\n",
      "Не получилось отвергнуть нулевую гипотезу, нет оснований считать доли разными\n"
     ]
    }
   ],
   "source": [
    "hypothesis(246, 247, 'MainScreenAppear')\n",
    "hypothesis(246, 247, 'OffersScreenAppear')\n",
    "hypothesis(246, 247, 'CartScreenAppear')"
   ]
  },
  {
   "cell_type": "markdown",
   "id": "ab09e220",
   "metadata": {},
   "source": [
    "Для указанных событий гитотеза также подтвердилась. P-value выше критического уровня статистической значимости. Статистически значимое различие отсутствует. Мы можем быть уверены в точности проведенного тестирования."
   ]
  },
  {
   "cell_type": "markdown",
   "id": "0eaae58c",
   "metadata": {},
   "source": [
    "Аналогично поступим с группой с изменённым шрифтом. Сравним результаты с каждой из контрольных групп в отдельности по каждому событию. Далее сравним результаты с объединённой контрольной группой. "
   ]
  },
  {
   "cell_type": "markdown",
   "id": "487312a2",
   "metadata": {},
   "source": [
    "**Сравним группы 246 и 248. Определим гипотезы:**\n",
    "- Нулевая: Конверсия групп 246 и 248 статистических различий не имеет;\n",
    "- Альтернативная: Конверсия групп 246 и 248 имеет статистические различия."
   ]
  },
  {
   "cell_type": "code",
   "execution_count": 38,
   "id": "4ed6a188",
   "metadata": {},
   "outputs": [
    {
     "name": "stdout",
     "output_type": "stream",
     "text": [
      "p-значение:  0.341286386031747\n",
      "Не получилось отвергнуть нулевую гипотезу, нет оснований считать доли разными\n",
      "p-значение:  0.21653516964059394\n",
      "Не получилось отвергнуть нулевую гипотезу, нет оснований считать доли разными\n",
      "p-значение:  0.09381753258425052\n",
      "Не получилось отвергнуть нулевую гипотезу, нет оснований считать доли разными\n",
      "p-значение:  0.22352231840506898\n",
      "Не получилось отвергнуть нулевую гипотезу, нет оснований считать доли разными\n"
     ]
    }
   ],
   "source": [
    "hypothesis(246, 248, 'MainScreenAppear')\n",
    "hypothesis(246, 248, 'OffersScreenAppear')\n",
    "hypothesis(246, 248, 'CartScreenAppear')\n",
    "hypothesis(246, 248, 'PaymentScreenSuccessful')"
   ]
  },
  {
   "cell_type": "markdown",
   "id": "504d6b08",
   "metadata": {},
   "source": [
    "Во всех гипотезах p-value выше критического уровня статистической значимости. Есть основания полагать, что конверсии групп 246 и 248 равны."
   ]
  },
  {
   "cell_type": "markdown",
   "id": "cf8cd069",
   "metadata": {},
   "source": [
    "**Сравним группы 247 и 248. Определим гипотезы:**\n",
    "\n",
    "- Нулевая: Конверсия групп 247 и 248 статистических различий не имеет;\n",
    "- Альтернативная: Конверсия групп 247 и 248 имеет статистические различия."
   ]
  },
  {
   "cell_type": "code",
   "execution_count": 39,
   "id": "e80cfc07",
   "metadata": {},
   "outputs": [
    {
     "name": "stdout",
     "output_type": "stream",
     "text": [
      "p-значение:  0.681958382603927\n",
      "Не получилось отвергнуть нулевую гипотезу, нет оснований считать доли разными\n",
      "p-значение:  0.8648317820162639\n",
      "Не получилось отвергнуть нулевую гипотезу, нет оснований считать доли разными\n",
      "p-значение:  0.6678786497629776\n",
      "Не получилось отвергнуть нулевую гипотезу, нет оснований считать доли разными\n",
      "p-значение:  0.7065894728746211\n",
      "Не получилось отвергнуть нулевую гипотезу, нет оснований считать доли разными\n"
     ]
    }
   ],
   "source": [
    "hypothesis(247, 248, 'MainScreenAppear')\n",
    "hypothesis(247, 248, 'OffersScreenAppear')\n",
    "hypothesis(247, 248, 'CartScreenAppear')\n",
    "hypothesis(247, 248, 'PaymentScreenSuccessful')"
   ]
  },
  {
   "cell_type": "markdown",
   "id": "450ede16",
   "metadata": {},
   "source": [
    "И здесь во всех гипотезах p-value выше критического уровня статистической значимости. Гипотезы подтвердились."
   ]
  },
  {
   "cell_type": "markdown",
   "id": "0f8c836e",
   "metadata": {},
   "source": [
    "**Сравним объединенные контрольные группы с 248. Определим гипотезы:**\n",
    "\n",
    "- Нулевая: Конверсия контрольные групп и группы 248 статистических различий не имеет;\n",
    "- Альтернативная: Конверсия контрольных групп и группы 248 имеет статистические различия."
   ]
  },
  {
   "cell_type": "code",
   "execution_count": 40,
   "id": "254453ad",
   "metadata": {},
   "outputs": [
    {
     "name": "stdout",
     "output_type": "stream",
     "text": [
      "p-значение:  0.42897263461182167\n",
      "Не получилось отвергнуть нулевую гипотезу, нет оснований считать доли разными\n",
      "p-значение:  0.4182702544597574\n",
      "Не получилось отвергнуть нулевую гипотезу, нет оснований считать доли разными\n",
      "p-значение:  0.22504740837954484\n",
      "Не получилось отвергнуть нулевую гипотезу, нет оснований считать доли разными\n",
      "p-значение:  0.629668311887492\n",
      "Не получилось отвергнуть нулевую гипотезу, нет оснований считать доли разными\n"
     ]
    }
   ],
   "source": [
    "funnel['246_247'] = funnel[246] + funnel[247] # объединенные контрольные группы\n",
    "hypothesis('246_247', 248, 'MainScreenAppear')\n",
    "hypothesis('246_247', 248, 'OffersScreenAppear')\n",
    "hypothesis('246_247', 248, 'CartScreenAppear')\n",
    "hypothesis('246_247', 248, 'PaymentScreenSuccessful')"
   ]
  },
  {
   "cell_type": "markdown",
   "id": "15c61845",
   "metadata": {},
   "source": [
    "**Вывод**\n",
    "- Количество пользователей в контрольных группах различается не более, чем на 1%, конверсия по группам не превышает 1% и не имеет статистической значимости. Исходя из этого, можно признать А/А тест успешным;\n",
    "- Анализ А/В теста показал, что статистических различий в конверсии между группами отсутствует. Таким образом можно утверждать, что с высокой долей вероятности изменение шрифта в приложении не влияет на покупательскую способность пользователей."
   ]
  },
  {
   "cell_type": "markdown",
   "id": "b7d78b9a",
   "metadata": {},
   "source": [
    "При проверке статистических гипотез, уровень критической значимости был установлен на отметке 0.05. Всего было проведено 16 проверок статистических гипотез. Вероятность ошибки в случае проведения 12 тестов ((А1+А2)/В не учитываем, потому как А1/В, А2/В уже рассмотрели.), т.е. с ɑ=0,05: 1-(1-0.05)^12= 46%. Очень большой процент появления ошибки, проводить тестирование с таким значением нецелесообразно. Используя один из базовых методов поправки на множественную проверку гипотез - метод Бонферрони, скорректируем уровень значимости. В этом случае альфа будет равна 0.05/12 = 0.004. Тогда вероятность ошибки с ɑ=0,004 будет равна: 1-(1-0.004)^12= 5%. С учетом того, что p-значение не опускалось ниже 0.11, дополнительная проверка с уровнем значимости 0.004 не приведет к изменению результата."
   ]
  },
  {
   "cell_type": "markdown",
   "id": "394c468a",
   "metadata": {},
   "source": [
    "## Общий вывод"
   ]
  },
  {
   "cell_type": "markdown",
   "id": "4a1a07a8",
   "metadata": {},
   "source": [
    "Задача проекта — изучить поведение пользователей мобильного приложения, а также определить, как новые шрифты повлияют на их активность. В начале исследования была проведена предобработка данных, а именно:\n",
    "- Названия столбцов приведены к единому виду;\n",
    "- Время события преобразовано к формату `datetime`;\n",
    "- Удалены дубликаты;\n",
    "- Данные проверены на пересекающихся пользователей, такие пользователи отсутствуют.\n",
    "\n",
    "Далее, для выполнения задачи были проверены и изучены данные датасета, составлена и изучена воронка продаж, в также исследованы результаты А/А и А/В эксперимента. В результате проведенного анализа установлено:\n",
    "- Количество событий в логе 243713;\n",
    "- Всего уникальных пользователей в логе 7551;\n",
    "- Среднее количество событий на пользователя 32;\n",
    "- Ввиду неравномерности распределения событий, начальная дата исследуемого периода была изменена с 25-07-2019 на 01-08-2019, в связи чем были потеряны данные о 9 пользователях, что составляет менее 1% от общего количества. Доля потерянных событий равна 0.48%. Потеря такого количества событий и пользователей допустима.\n",
    "- Определён порядок событий:\n",
    "\n",
    "      `Main Screen Appear` - появление главного экрана;          \n",
    "      `Offers Screen Appear` - появление экрана предложений(товаров);          \n",
    "      `Cart Screen Appear` - появление экрана корзины;           \n",
    "      `Payment Screen Successful` - появление экрана успешной оплаты.\n",
    "     \n",
    "     \n",
    "- Первый шаг прошли не все пользователи, причины могут быть разные, возможно клиенты довольствовались знакомством с приложением через \"Руководство\", либо попадали сразу на католог товаров (определенный продукт) через рекламу;\n",
    "- Большего всего пользователей теряется на втором шаге, около 30% дальше главного экрана не уходят. С дальнейшими шагами ситуация выравнивается, почти половина пользователей доходит до оплаты товаров;\n",
    "- Количество пользователей в контрольных группах различается не более, чем на 1%, конверсия по группам не превышает 1% и не имеет статистической значимости. Исходя из этого, можно признать А/А тест успешным;\n",
    "- Анализ А/В теста показал, что статистических различий в конверсии между группами отсутствует. Таким образом можно утверждать, что с высокой долей вероятности изменение шрифта в приложении не влияет на покупательскую способность пользователей."
   ]
  }
 ],
 "metadata": {
  "ExecuteTimeLog": [
   {
    "duration": 1071,
    "start_time": "2022-06-24T12:41:24.815Z"
   },
   {
    "duration": 215,
    "start_time": "2022-06-24T12:41:25.888Z"
   },
   {
    "duration": 97,
    "start_time": "2022-06-24T12:41:26.104Z"
   },
   {
    "duration": 112,
    "start_time": "2022-06-24T12:41:26.203Z"
   },
   {
    "duration": 45,
    "start_time": "2022-06-24T12:41:26.317Z"
   },
   {
    "duration": 30,
    "start_time": "2022-06-24T12:41:26.363Z"
   },
   {
    "duration": 5,
    "start_time": "2022-06-24T12:41:26.395Z"
   },
   {
    "duration": 258,
    "start_time": "2022-06-24T12:41:26.401Z"
   },
   {
    "duration": 16,
    "start_time": "2022-06-24T12:41:26.660Z"
   },
   {
    "duration": 17,
    "start_time": "2022-06-24T12:41:26.678Z"
   },
   {
    "duration": 23,
    "start_time": "2022-06-24T12:41:26.696Z"
   },
   {
    "duration": 98,
    "start_time": "2022-06-24T12:41:26.721Z"
   },
   {
    "duration": 95,
    "start_time": "2022-06-24T12:41:26.820Z"
   },
   {
    "duration": 53,
    "start_time": "2022-06-24T12:41:26.917Z"
   },
   {
    "duration": 108,
    "start_time": "2022-06-24T12:41:26.971Z"
   },
   {
    "duration": 8,
    "start_time": "2022-06-24T12:41:27.080Z"
   },
   {
    "duration": 16,
    "start_time": "2022-06-24T12:41:27.089Z"
   },
   {
    "duration": 14,
    "start_time": "2022-06-24T12:41:27.107Z"
   },
   {
    "duration": 7,
    "start_time": "2022-06-24T12:41:27.123Z"
   },
   {
    "duration": 31,
    "start_time": "2022-06-24T12:41:27.132Z"
   }
  ],
  "kernelspec": {
   "display_name": "Python 3 (ipykernel)",
   "language": "python",
   "name": "python3"
  },
  "language_info": {
   "codemirror_mode": {
    "name": "ipython",
    "version": 3
   },
   "file_extension": ".py",
   "mimetype": "text/x-python",
   "name": "python",
   "nbconvert_exporter": "python",
   "pygments_lexer": "ipython3",
   "version": "3.9.7"
  },
  "toc": {
   "base_numbering": 1,
   "nav_menu": {},
   "number_sections": true,
   "sideBar": true,
   "skip_h1_title": true,
   "title_cell": "Table of Contents",
   "title_sidebar": "Contents",
   "toc_cell": false,
   "toc_position": {},
   "toc_section_display": true,
   "toc_window_display": false
  }
 },
 "nbformat": 4,
 "nbformat_minor": 5
}
